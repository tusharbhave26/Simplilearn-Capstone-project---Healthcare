{
  "cells": [
    {
      "cell_type": "markdown",
      "metadata": {
        "id": "view-in-github",
        "colab_type": "text"
      },
      "source": [
        "<a href=\"https://colab.research.google.com/github/tusharbhave26/Simplilearn-Capstone-project---Healthcare/blob/main/Capstone_Project_Healthcare.ipynb\" target=\"_parent\"><img src=\"https://colab.research.google.com/assets/colab-badge.svg\" alt=\"Open In Colab\"/></a>"
      ]
    },
    {
      "cell_type": "markdown",
      "metadata": {
        "id": "J05bfyo0-aC0"
      },
      "source": [
        "## Problem Statement\n",
        "\n",
        "NIDDK (National Institute of Diabetes and Digestive and Kidney Diseases) research creates knowledge about and treatments for the most chronic, costly, and consequential diseases.\n",
        "\n",
        "The dataset used in this project is originally from NIDDK. \n",
        "- The objective is to predict whether or not a patient has diabetes, based on certain diagnostic measurements included in the dataset.\n",
        "- Build a model to accurately predict whether the patients in the dataset have diabetes or not."
      ]
    },
    {
      "cell_type": "markdown",
      "metadata": {
        "id": "pah6GXE--_T6"
      },
      "source": [
        "### 1. Data Exploration\n",
        "\n",
        "- Perform descriptive analysis. Understand the variables and their corresponding values. On the columns below, a value of zero does not make sense and thus indicates missing value:\n",
        "  - Glucose\n",
        "  - BloodPressure\n",
        "  - SkinThickness\n",
        "  - Insulin\n",
        "  - BMI\n",
        "\n",
        "- Visually explore these variables using histograms. Treat the missing values accordingly.\n",
        "\n",
        "- There are integer and float data type variables in this dataset. Create a count (frequency) plot describing the data types and the count of variables. "
      ]
    },
    {
      "cell_type": "markdown",
      "metadata": {
        "id": "rng3N9Qo_cNF"
      },
      "source": [
        "#### 1.1 Import the necessary library\n",
        "\n",
        "numpy, pandas, matplotlib, seaborn etc.\n",
        "\n",
        "all the other library we'll import as required"
      ]
    },
    {
      "cell_type": "code",
      "execution_count": null,
      "metadata": {
        "id": "f9krNSIW9Y74"
      },
      "outputs": [],
      "source": [
        "# import the necessary library\n",
        "\n",
        "import pandas as pd\n",
        "import numpy as np\n",
        "import matplotlib.pyplot as plt\n",
        "import seaborn as sns\n",
        "import warnings\n",
        "warnings.filterwarnings(\"ignore\")"
      ]
    },
    {
      "cell_type": "markdown",
      "metadata": {
        "id": "WSGzhZK9AUgg"
      },
      "source": [
        "#### 1.2 Importing the healthcare datasets"
      ]
    },
    {
      "cell_type": "code",
      "execution_count": null,
      "metadata": {
        "colab": {
          "base_uri": "https://localhost:8080/",
          "height": 73,
          "resources": {
            "http://localhost:8080/nbextensions/google.colab/files.js": {
              "data": "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",
              "headers": [
                [
                  "content-type",
                  "application/javascript"
                ]
              ],
              "ok": true,
              "status": 200,
              "status_text": ""
            }
          }
        },
        "id": "AhZU3V-__1Di",
        "outputId": "c9b24bd4-af0b-4b6e-86e7-7797e861a64d"
      },
      "outputs": [
        {
          "data": {
            "text/html": [
              "\n",
              "     <input type=\"file\" id=\"files-464da662-f528-460e-bbfe-269e5e8c4be6\" name=\"files[]\" multiple disabled\n",
              "        style=\"border:none\" />\n",
              "     <output id=\"result-464da662-f528-460e-bbfe-269e5e8c4be6\">\n",
              "      Upload widget is only available when the cell has been executed in the\n",
              "      current browser session. Please rerun this cell to enable.\n",
              "      </output>\n",
              "      <script src=\"/nbextensions/google.colab/files.js\"></script> "
            ],
            "text/plain": [
              "<IPython.core.display.HTML object>"
            ]
          },
          "metadata": {},
          "output_type": "display_data"
        },
        {
          "name": "stdout",
          "output_type": "stream",
          "text": [
            "Saving health care diabetes.csv to health care diabetes.csv\n"
          ]
        }
      ],
      "source": [
        "from google.colab import files\n",
        "upload = files.upload()"
      ]
    },
    {
      "cell_type": "code",
      "execution_count": null,
      "metadata": {
        "id": "zZ4zKtx9AIl_"
      },
      "outputs": [],
      "source": [
        "df_diabetes = pd.read_csv(\"health care diabetes.csv\")"
      ]
    },
    {
      "cell_type": "code",
      "execution_count": null,
      "metadata": {
        "colab": {
          "base_uri": "https://localhost:8080/",
          "height": 250
        },
        "id": "wCAER2IkCXwm",
        "outputId": "72c3f584-cbce-4bb4-bd58-99e7d71f562d"
      },
      "outputs": [
        {
          "data": {
            "text/html": [
              "\n",
              "  <div id=\"df-34bb6f15-df2d-4539-aa9e-5fa641a4f193\">\n",
              "    <div class=\"colab-df-container\">\n",
              "      <div>\n",
              "<style scoped>\n",
              "    .dataframe tbody tr th:only-of-type {\n",
              "        vertical-align: middle;\n",
              "    }\n",
              "\n",
              "    .dataframe tbody tr th {\n",
              "        vertical-align: top;\n",
              "    }\n",
              "\n",
              "    .dataframe thead th {\n",
              "        text-align: right;\n",
              "    }\n",
              "</style>\n",
              "<table border=\"1\" class=\"dataframe\">\n",
              "  <thead>\n",
              "    <tr style=\"text-align: right;\">\n",
              "      <th></th>\n",
              "      <th>Pregnancies</th>\n",
              "      <th>Glucose</th>\n",
              "      <th>BloodPressure</th>\n",
              "      <th>SkinThickness</th>\n",
              "      <th>Insulin</th>\n",
              "      <th>BMI</th>\n",
              "      <th>DiabetesPedigreeFunction</th>\n",
              "      <th>Age</th>\n",
              "      <th>Outcome</th>\n",
              "    </tr>\n",
              "  </thead>\n",
              "  <tbody>\n",
              "    <tr>\n",
              "      <th>0</th>\n",
              "      <td>6</td>\n",
              "      <td>148</td>\n",
              "      <td>72</td>\n",
              "      <td>35</td>\n",
              "      <td>0</td>\n",
              "      <td>33.6</td>\n",
              "      <td>0.627</td>\n",
              "      <td>50</td>\n",
              "      <td>1</td>\n",
              "    </tr>\n",
              "    <tr>\n",
              "      <th>1</th>\n",
              "      <td>1</td>\n",
              "      <td>85</td>\n",
              "      <td>66</td>\n",
              "      <td>29</td>\n",
              "      <td>0</td>\n",
              "      <td>26.6</td>\n",
              "      <td>0.351</td>\n",
              "      <td>31</td>\n",
              "      <td>0</td>\n",
              "    </tr>\n",
              "    <tr>\n",
              "      <th>2</th>\n",
              "      <td>8</td>\n",
              "      <td>183</td>\n",
              "      <td>64</td>\n",
              "      <td>0</td>\n",
              "      <td>0</td>\n",
              "      <td>23.3</td>\n",
              "      <td>0.672</td>\n",
              "      <td>32</td>\n",
              "      <td>1</td>\n",
              "    </tr>\n",
              "    <tr>\n",
              "      <th>3</th>\n",
              "      <td>1</td>\n",
              "      <td>89</td>\n",
              "      <td>66</td>\n",
              "      <td>23</td>\n",
              "      <td>94</td>\n",
              "      <td>28.1</td>\n",
              "      <td>0.167</td>\n",
              "      <td>21</td>\n",
              "      <td>0</td>\n",
              "    </tr>\n",
              "    <tr>\n",
              "      <th>4</th>\n",
              "      <td>0</td>\n",
              "      <td>137</td>\n",
              "      <td>40</td>\n",
              "      <td>35</td>\n",
              "      <td>168</td>\n",
              "      <td>43.1</td>\n",
              "      <td>2.288</td>\n",
              "      <td>33</td>\n",
              "      <td>1</td>\n",
              "    </tr>\n",
              "  </tbody>\n",
              "</table>\n",
              "</div>\n",
              "      <button class=\"colab-df-convert\" onclick=\"convertToInteractive('df-34bb6f15-df2d-4539-aa9e-5fa641a4f193')\"\n",
              "              title=\"Convert this dataframe to an interactive table.\"\n",
              "              style=\"display:none;\">\n",
              "        \n",
              "  <svg xmlns=\"http://www.w3.org/2000/svg\" height=\"24px\"viewBox=\"0 0 24 24\"\n",
              "       width=\"24px\">\n",
              "    <path d=\"M0 0h24v24H0V0z\" fill=\"none\"/>\n",
              "    <path d=\"M18.56 5.44l.94 2.06.94-2.06 2.06-.94-2.06-.94-.94-2.06-.94 2.06-2.06.94zm-11 1L8.5 8.5l.94-2.06 2.06-.94-2.06-.94L8.5 2.5l-.94 2.06-2.06.94zm10 10l.94 2.06.94-2.06 2.06-.94-2.06-.94-.94-2.06-.94 2.06-2.06.94z\"/><path d=\"M17.41 7.96l-1.37-1.37c-.4-.4-.92-.59-1.43-.59-.52 0-1.04.2-1.43.59L10.3 9.45l-7.72 7.72c-.78.78-.78 2.05 0 2.83L4 21.41c.39.39.9.59 1.41.59.51 0 1.02-.2 1.41-.59l7.78-7.78 2.81-2.81c.8-.78.8-2.07 0-2.86zM5.41 20L4 18.59l7.72-7.72 1.47 1.35L5.41 20z\"/>\n",
              "  </svg>\n",
              "      </button>\n",
              "      \n",
              "  <style>\n",
              "    .colab-df-container {\n",
              "      display:flex;\n",
              "      flex-wrap:wrap;\n",
              "      gap: 12px;\n",
              "    }\n",
              "\n",
              "    .colab-df-convert {\n",
              "      background-color: #E8F0FE;\n",
              "      border: none;\n",
              "      border-radius: 50%;\n",
              "      cursor: pointer;\n",
              "      display: none;\n",
              "      fill: #1967D2;\n",
              "      height: 32px;\n",
              "      padding: 0 0 0 0;\n",
              "      width: 32px;\n",
              "    }\n",
              "\n",
              "    .colab-df-convert:hover {\n",
              "      background-color: #E2EBFA;\n",
              "      box-shadow: 0px 1px 2px rgba(60, 64, 67, 0.3), 0px 1px 3px 1px rgba(60, 64, 67, 0.15);\n",
              "      fill: #174EA6;\n",
              "    }\n",
              "\n",
              "    [theme=dark] .colab-df-convert {\n",
              "      background-color: #3B4455;\n",
              "      fill: #D2E3FC;\n",
              "    }\n",
              "\n",
              "    [theme=dark] .colab-df-convert:hover {\n",
              "      background-color: #434B5C;\n",
              "      box-shadow: 0px 1px 3px 1px rgba(0, 0, 0, 0.15);\n",
              "      filter: drop-shadow(0px 1px 2px rgba(0, 0, 0, 0.3));\n",
              "      fill: #FFFFFF;\n",
              "    }\n",
              "  </style>\n",
              "\n",
              "      <script>\n",
              "        const buttonEl =\n",
              "          document.querySelector('#df-34bb6f15-df2d-4539-aa9e-5fa641a4f193 button.colab-df-convert');\n",
              "        buttonEl.style.display =\n",
              "          google.colab.kernel.accessAllowed ? 'block' : 'none';\n",
              "\n",
              "        async function convertToInteractive(key) {\n",
              "          const element = document.querySelector('#df-34bb6f15-df2d-4539-aa9e-5fa641a4f193');\n",
              "          const dataTable =\n",
              "            await google.colab.kernel.invokeFunction('convertToInteractive',\n",
              "                                                     [key], {});\n",
              "          if (!dataTable) return;\n",
              "\n",
              "          const docLinkHtml = 'Like what you see? Visit the ' +\n",
              "            '<a target=\"_blank\" href=https://colab.research.google.com/notebooks/data_table.ipynb>data table notebook</a>'\n",
              "            + ' to learn more about interactive tables.';\n",
              "          element.innerHTML = '';\n",
              "          dataTable['output_type'] = 'display_data';\n",
              "          await google.colab.output.renderOutput(dataTable, element);\n",
              "          const docLink = document.createElement('div');\n",
              "          docLink.innerHTML = docLinkHtml;\n",
              "          element.appendChild(docLink);\n",
              "        }\n",
              "      </script>\n",
              "    </div>\n",
              "  </div>\n",
              "  "
            ],
            "text/plain": [
              "   Pregnancies  Glucose  BloodPressure  SkinThickness  Insulin   BMI  \\\n",
              "0            6      148             72             35        0  33.6   \n",
              "1            1       85             66             29        0  26.6   \n",
              "2            8      183             64              0        0  23.3   \n",
              "3            1       89             66             23       94  28.1   \n",
              "4            0      137             40             35      168  43.1   \n",
              "\n",
              "   DiabetesPedigreeFunction  Age  Outcome  \n",
              "0                     0.627   50        1  \n",
              "1                     0.351   31        0  \n",
              "2                     0.672   32        1  \n",
              "3                     0.167   21        0  \n",
              "4                     2.288   33        1  "
            ]
          },
          "execution_count": 4,
          "metadata": {},
          "output_type": "execute_result"
        }
      ],
      "source": [
        "df_diabetes.head()"
      ]
    },
    {
      "cell_type": "markdown",
      "metadata": {
        "id": "RWtsW9TOBBIv"
      },
      "source": [
        "#### 1.3 Some basic info about the dataset"
      ]
    },
    {
      "cell_type": "code",
      "execution_count": null,
      "metadata": {
        "colab": {
          "base_uri": "https://localhost:8080/"
        },
        "id": "kGC6qewlA5ZT",
        "outputId": "39ce0e34-4a4a-4e67-e554-50cc665fbcdd"
      },
      "outputs": [
        {
          "data": {
            "text/plain": [
              "(768, 9)"
            ]
          },
          "execution_count": 5,
          "metadata": {},
          "output_type": "execute_result"
        }
      ],
      "source": [
        "#Check the shape of the df\n",
        "df_diabetes.shape"
      ]
    },
    {
      "cell_type": "markdown",
      "metadata": {
        "id": "WLWwNtZJBJ4y"
      },
      "source": [
        "- So we have a diabetes dataset which have 768 rows and 9 columns"
      ]
    },
    {
      "cell_type": "code",
      "execution_count": null,
      "metadata": {
        "colab": {
          "base_uri": "https://localhost:8080/"
        },
        "id": "O-MopxIvBHTO",
        "outputId": "ea5d120a-98cc-442b-fbe2-7f77386e743b"
      },
      "outputs": [
        {
          "name": "stdout",
          "output_type": "stream",
          "text": [
            "<class 'pandas.core.frame.DataFrame'>\n",
            "RangeIndex: 768 entries, 0 to 767\n",
            "Data columns (total 9 columns):\n",
            " #   Column                    Non-Null Count  Dtype  \n",
            "---  ------                    --------------  -----  \n",
            " 0   Pregnancies               768 non-null    int64  \n",
            " 1   Glucose                   768 non-null    int64  \n",
            " 2   BloodPressure             768 non-null    int64  \n",
            " 3   SkinThickness             768 non-null    int64  \n",
            " 4   Insulin                   768 non-null    int64  \n",
            " 5   BMI                       768 non-null    float64\n",
            " 6   DiabetesPedigreeFunction  768 non-null    float64\n",
            " 7   Age                       768 non-null    int64  \n",
            " 8   Outcome                   768 non-null    int64  \n",
            "dtypes: float64(2), int64(7)\n",
            "memory usage: 54.1 KB\n"
          ]
        }
      ],
      "source": [
        "# Some basic info\n",
        "df_diabetes.info()"
      ]
    },
    {
      "cell_type": "markdown",
      "metadata": {
        "id": "3vZ7RgrhBUSc"
      },
      "source": [
        "So now from basic info we can see that we have 9 columns out of which \n",
        "- 7 columns are integers i.e. Pregnancies, Glucose, BP, Skinthickness, Insuling, Age, outcome\n",
        "- 2 columns are float i.e. BMI(body mass index), DiabetesPedigreeFunction(a Function which calculates the likelihood of diabetes based on family history)\n",
        "- None of the columns have null values as shown\n",
        "- it seems that outcome is the predictor variable which show if the person have diabetes or not\n",
        "  - 0 indicates non-Diabetic\n",
        "  - 1 indicates Diabetic"
      ]
    },
    {
      "cell_type": "markdown",
      "metadata": {
        "id": "UdgHmvHgCwKU"
      },
      "source": [
        "#### 1.3 Descriptive analysis of the dataset\n",
        "\n",
        "Lets see some basic descriptive analysis on the dataset like the mean, median etc."
      ]
    },
    {
      "cell_type": "code",
      "execution_count": null,
      "metadata": {
        "colab": {
          "base_uri": "https://localhost:8080/",
          "height": 332
        },
        "id": "SKF_4qIHBR0o",
        "outputId": "e816fa36-8f24-4d69-f02a-fa42458467cd"
      },
      "outputs": [
        {
          "data": {
            "text/html": [
              "\n",
              "  <div id=\"df-6524207c-dc93-44d2-9241-ccae118547d9\">\n",
              "    <div class=\"colab-df-container\">\n",
              "      <div>\n",
              "<style scoped>\n",
              "    .dataframe tbody tr th:only-of-type {\n",
              "        vertical-align: middle;\n",
              "    }\n",
              "\n",
              "    .dataframe tbody tr th {\n",
              "        vertical-align: top;\n",
              "    }\n",
              "\n",
              "    .dataframe thead th {\n",
              "        text-align: right;\n",
              "    }\n",
              "</style>\n",
              "<table border=\"1\" class=\"dataframe\">\n",
              "  <thead>\n",
              "    <tr style=\"text-align: right;\">\n",
              "      <th></th>\n",
              "      <th>count</th>\n",
              "      <th>mean</th>\n",
              "      <th>std</th>\n",
              "      <th>min</th>\n",
              "      <th>25%</th>\n",
              "      <th>50%</th>\n",
              "      <th>75%</th>\n",
              "      <th>max</th>\n",
              "    </tr>\n",
              "  </thead>\n",
              "  <tbody>\n",
              "    <tr>\n",
              "      <th>Pregnancies</th>\n",
              "      <td>768.0</td>\n",
              "      <td>3.845052</td>\n",
              "      <td>3.369578</td>\n",
              "      <td>0.000</td>\n",
              "      <td>1.00000</td>\n",
              "      <td>3.0000</td>\n",
              "      <td>6.00000</td>\n",
              "      <td>17.00</td>\n",
              "    </tr>\n",
              "    <tr>\n",
              "      <th>Glucose</th>\n",
              "      <td>768.0</td>\n",
              "      <td>120.894531</td>\n",
              "      <td>31.972618</td>\n",
              "      <td>0.000</td>\n",
              "      <td>99.00000</td>\n",
              "      <td>117.0000</td>\n",
              "      <td>140.25000</td>\n",
              "      <td>199.00</td>\n",
              "    </tr>\n",
              "    <tr>\n",
              "      <th>BloodPressure</th>\n",
              "      <td>768.0</td>\n",
              "      <td>69.105469</td>\n",
              "      <td>19.355807</td>\n",
              "      <td>0.000</td>\n",
              "      <td>62.00000</td>\n",
              "      <td>72.0000</td>\n",
              "      <td>80.00000</td>\n",
              "      <td>122.00</td>\n",
              "    </tr>\n",
              "    <tr>\n",
              "      <th>SkinThickness</th>\n",
              "      <td>768.0</td>\n",
              "      <td>20.536458</td>\n",
              "      <td>15.952218</td>\n",
              "      <td>0.000</td>\n",
              "      <td>0.00000</td>\n",
              "      <td>23.0000</td>\n",
              "      <td>32.00000</td>\n",
              "      <td>99.00</td>\n",
              "    </tr>\n",
              "    <tr>\n",
              "      <th>Insulin</th>\n",
              "      <td>768.0</td>\n",
              "      <td>79.799479</td>\n",
              "      <td>115.244002</td>\n",
              "      <td>0.000</td>\n",
              "      <td>0.00000</td>\n",
              "      <td>30.5000</td>\n",
              "      <td>127.25000</td>\n",
              "      <td>846.00</td>\n",
              "    </tr>\n",
              "    <tr>\n",
              "      <th>BMI</th>\n",
              "      <td>768.0</td>\n",
              "      <td>31.992578</td>\n",
              "      <td>7.884160</td>\n",
              "      <td>0.000</td>\n",
              "      <td>27.30000</td>\n",
              "      <td>32.0000</td>\n",
              "      <td>36.60000</td>\n",
              "      <td>67.10</td>\n",
              "    </tr>\n",
              "    <tr>\n",
              "      <th>DiabetesPedigreeFunction</th>\n",
              "      <td>768.0</td>\n",
              "      <td>0.471876</td>\n",
              "      <td>0.331329</td>\n",
              "      <td>0.078</td>\n",
              "      <td>0.24375</td>\n",
              "      <td>0.3725</td>\n",
              "      <td>0.62625</td>\n",
              "      <td>2.42</td>\n",
              "    </tr>\n",
              "    <tr>\n",
              "      <th>Age</th>\n",
              "      <td>768.0</td>\n",
              "      <td>33.240885</td>\n",
              "      <td>11.760232</td>\n",
              "      <td>21.000</td>\n",
              "      <td>24.00000</td>\n",
              "      <td>29.0000</td>\n",
              "      <td>41.00000</td>\n",
              "      <td>81.00</td>\n",
              "    </tr>\n",
              "    <tr>\n",
              "      <th>Outcome</th>\n",
              "      <td>768.0</td>\n",
              "      <td>0.348958</td>\n",
              "      <td>0.476951</td>\n",
              "      <td>0.000</td>\n",
              "      <td>0.00000</td>\n",
              "      <td>0.0000</td>\n",
              "      <td>1.00000</td>\n",
              "      <td>1.00</td>\n",
              "    </tr>\n",
              "  </tbody>\n",
              "</table>\n",
              "</div>\n",
              "      <button class=\"colab-df-convert\" onclick=\"convertToInteractive('df-6524207c-dc93-44d2-9241-ccae118547d9')\"\n",
              "              title=\"Convert this dataframe to an interactive table.\"\n",
              "              style=\"display:none;\">\n",
              "        \n",
              "  <svg xmlns=\"http://www.w3.org/2000/svg\" height=\"24px\"viewBox=\"0 0 24 24\"\n",
              "       width=\"24px\">\n",
              "    <path d=\"M0 0h24v24H0V0z\" fill=\"none\"/>\n",
              "    <path d=\"M18.56 5.44l.94 2.06.94-2.06 2.06-.94-2.06-.94-.94-2.06-.94 2.06-2.06.94zm-11 1L8.5 8.5l.94-2.06 2.06-.94-2.06-.94L8.5 2.5l-.94 2.06-2.06.94zm10 10l.94 2.06.94-2.06 2.06-.94-2.06-.94-.94-2.06-.94 2.06-2.06.94z\"/><path d=\"M17.41 7.96l-1.37-1.37c-.4-.4-.92-.59-1.43-.59-.52 0-1.04.2-1.43.59L10.3 9.45l-7.72 7.72c-.78.78-.78 2.05 0 2.83L4 21.41c.39.39.9.59 1.41.59.51 0 1.02-.2 1.41-.59l7.78-7.78 2.81-2.81c.8-.78.8-2.07 0-2.86zM5.41 20L4 18.59l7.72-7.72 1.47 1.35L5.41 20z\"/>\n",
              "  </svg>\n",
              "      </button>\n",
              "      \n",
              "  <style>\n",
              "    .colab-df-container {\n",
              "      display:flex;\n",
              "      flex-wrap:wrap;\n",
              "      gap: 12px;\n",
              "    }\n",
              "\n",
              "    .colab-df-convert {\n",
              "      background-color: #E8F0FE;\n",
              "      border: none;\n",
              "      border-radius: 50%;\n",
              "      cursor: pointer;\n",
              "      display: none;\n",
              "      fill: #1967D2;\n",
              "      height: 32px;\n",
              "      padding: 0 0 0 0;\n",
              "      width: 32px;\n",
              "    }\n",
              "\n",
              "    .colab-df-convert:hover {\n",
              "      background-color: #E2EBFA;\n",
              "      box-shadow: 0px 1px 2px rgba(60, 64, 67, 0.3), 0px 1px 3px 1px rgba(60, 64, 67, 0.15);\n",
              "      fill: #174EA6;\n",
              "    }\n",
              "\n",
              "    [theme=dark] .colab-df-convert {\n",
              "      background-color: #3B4455;\n",
              "      fill: #D2E3FC;\n",
              "    }\n",
              "\n",
              "    [theme=dark] .colab-df-convert:hover {\n",
              "      background-color: #434B5C;\n",
              "      box-shadow: 0px 1px 3px 1px rgba(0, 0, 0, 0.15);\n",
              "      filter: drop-shadow(0px 1px 2px rgba(0, 0, 0, 0.3));\n",
              "      fill: #FFFFFF;\n",
              "    }\n",
              "  </style>\n",
              "\n",
              "      <script>\n",
              "        const buttonEl =\n",
              "          document.querySelector('#df-6524207c-dc93-44d2-9241-ccae118547d9 button.colab-df-convert');\n",
              "        buttonEl.style.display =\n",
              "          google.colab.kernel.accessAllowed ? 'block' : 'none';\n",
              "\n",
              "        async function convertToInteractive(key) {\n",
              "          const element = document.querySelector('#df-6524207c-dc93-44d2-9241-ccae118547d9');\n",
              "          const dataTable =\n",
              "            await google.colab.kernel.invokeFunction('convertToInteractive',\n",
              "                                                     [key], {});\n",
              "          if (!dataTable) return;\n",
              "\n",
              "          const docLinkHtml = 'Like what you see? Visit the ' +\n",
              "            '<a target=\"_blank\" href=https://colab.research.google.com/notebooks/data_table.ipynb>data table notebook</a>'\n",
              "            + ' to learn more about interactive tables.';\n",
              "          element.innerHTML = '';\n",
              "          dataTable['output_type'] = 'display_data';\n",
              "          await google.colab.output.renderOutput(dataTable, element);\n",
              "          const docLink = document.createElement('div');\n",
              "          docLink.innerHTML = docLinkHtml;\n",
              "          element.appendChild(docLink);\n",
              "        }\n",
              "      </script>\n",
              "    </div>\n",
              "  </div>\n",
              "  "
            ],
            "text/plain": [
              "                          count        mean         std     min       25%  \\\n",
              "Pregnancies               768.0    3.845052    3.369578   0.000   1.00000   \n",
              "Glucose                   768.0  120.894531   31.972618   0.000  99.00000   \n",
              "BloodPressure             768.0   69.105469   19.355807   0.000  62.00000   \n",
              "SkinThickness             768.0   20.536458   15.952218   0.000   0.00000   \n",
              "Insulin                   768.0   79.799479  115.244002   0.000   0.00000   \n",
              "BMI                       768.0   31.992578    7.884160   0.000  27.30000   \n",
              "DiabetesPedigreeFunction  768.0    0.471876    0.331329   0.078   0.24375   \n",
              "Age                       768.0   33.240885   11.760232  21.000  24.00000   \n",
              "Outcome                   768.0    0.348958    0.476951   0.000   0.00000   \n",
              "\n",
              "                               50%        75%     max  \n",
              "Pregnancies                 3.0000    6.00000   17.00  \n",
              "Glucose                   117.0000  140.25000  199.00  \n",
              "BloodPressure              72.0000   80.00000  122.00  \n",
              "SkinThickness              23.0000   32.00000   99.00  \n",
              "Insulin                    30.5000  127.25000  846.00  \n",
              "BMI                        32.0000   36.60000   67.10  \n",
              "DiabetesPedigreeFunction    0.3725    0.62625    2.42  \n",
              "Age                        29.0000   41.00000   81.00  \n",
              "Outcome                     0.0000    1.00000    1.00  "
            ]
          },
          "execution_count": 7,
          "metadata": {},
          "output_type": "execute_result"
        }
      ],
      "source": [
        "df_diabetes.describe().T"
      ]
    },
    {
      "cell_type": "markdown",
      "metadata": {
        "id": "hEboJ7e5DLHA"
      },
      "source": [
        "above we see the basic statistics about the diabetes dataframe\n",
        "some point to note\n",
        "- For Pregnancy we have min of 0 and max of 17 with a mean of 3 \n",
        "- one thing to note is that for many of the predictors (Glucose, BP, Skinthickness, Insulin, BMI) we have min, reading of 0 which is not possible, so it is most like be the missing values which needs to be imputes based on the distribution of these predictors\n",
        "- For age values ranges from 11-81 with a means of 33 which is somewhat normal distributes"
      ]
    },
    {
      "cell_type": "markdown",
      "metadata": {
        "id": "QTjMbtvfEJ1X"
      },
      "source": [
        "#### 1.4 Lets check the values count of the outcome "
      ]
    },
    {
      "cell_type": "code",
      "execution_count": null,
      "metadata": {
        "colab": {
          "base_uri": "https://localhost:8080/",
          "height": 262
        },
        "id": "MriFbYgeDAHT",
        "outputId": "b41517b9-941c-4ae5-f2fb-04e79bf04f16"
      },
      "outputs": [
        {
          "data": {
            "image/png": "[encoded data removed]",
            "text/plain": [
              "<Figure size 432x288 with 1 Axes>"
            ]
          },
          "metadata": {},
          "output_type": "display_data"
        }
      ],
      "source": [
        "round(df_diabetes['Outcome'].value_counts(normalize=True)*100,2).plot(kind='bar', )\n",
        "plt.title(\"Proportion of the outcome\")\n",
        "plt.show()"
      ]
    },
    {
      "cell_type": "markdown",
      "metadata": {
        "id": "Eijlwh4YFnn0"
      },
      "source": [
        "So we have about 65% non-diabetic and 35% diabetic"
      ]
    },
    {
      "cell_type": "markdown",
      "metadata": {
        "id": "ySBbeujpF221"
      },
      "source": [
        "Now we have some idea about the dataset\n",
        "\n",
        "Now lets deal with the missing values. Although in isna we dont have any missing values. we saw above that we have lot of zero values in many of the predictors (Glucose, BP, Skinthickness, Insulin, BMI) which is not possible. So we have to treat these zero as missing values and impute them in some manner\n",
        "\n",
        "- Before dealing with them lets check the distribution of these variables"
      ]
    },
    {
      "cell_type": "markdown",
      "metadata": {
        "id": "UwXP87eWGeJr"
      },
      "source": [
        "#### 1.5 Missing values "
      ]
    },
    {
      "cell_type": "markdown",
      "metadata": {
        "id": "SC1YgdKVGiZ8"
      },
      "source": [
        "##### 1.5.1 Let's check the distribution of the variable\n",
        "\n",
        "Before we impute these zero values it is abvisable to see the distribution of the missing values of see most efficient strategy i.e. mean, median to deal with the missing values\n",
        "\n",
        "- if the distribution of the predictors it skewed(right or left) it is advisable to impute it with median\n",
        "- if the distribition of the predictors it normal then we can impute it with mean"
      ]
    },
    {
      "cell_type": "code",
      "execution_count": null,
      "metadata": {
        "colab": {
          "base_uri": "https://localhost:8080/",
          "height": 551
        },
        "id": "PfisBCzCFzId",
        "outputId": "868e2b61-2a3c-4741-f5ff-d7bd6bc9d37d"
      },
      "outputs": [
        {
          "data": {
            "image/png": "[encoded data removed]",
            "text/plain": [
              "<Figure size 864x648 with 5 Axes>"
            ]
          },
          "metadata": {},
          "output_type": "display_data"
        }
      ],
      "source": [
        "plt.figure(figsize=(12,9))\n",
        "plt.subplot(5,1,1); sns.distplot(df_diabetes['Glucose'])\n",
        "plt.subplot(5,1,2); sns.distplot(df_diabetes['BloodPressure'])\n",
        "plt.subplot(5,1,3); sns.distplot(df_diabetes['SkinThickness'])\n",
        "plt.subplot(5,1,4); sns.distplot(df_diabetes['Insulin'])\n",
        "plt.subplot(5,1,5); sns.distplot(df_diabetes['BMI'])\n",
        "plt.show()"
      ]
    },
    {
      "cell_type": "markdown",
      "metadata": {
        "id": "BQNyqZcIJCsE"
      },
      "source": [
        "So from the above frequency plot we know that Glucose, BP, skinthickness and BMI are somewhat normally distributes \n",
        "and Insulin is Right skewed so for insuling we can impute its values with median and rest we can impute with means"
      ]
    },
    {
      "cell_type": "markdown",
      "metadata": {
        "id": "rlALCJddJgse"
      },
      "source": [
        "##### 1.5.2 Number of Missing values"
      ]
    },
    {
      "cell_type": "code",
      "execution_count": null,
      "metadata": {
        "id": "-mnJSfbhH3-i"
      },
      "outputs": [],
      "source": [
        "# Lets first make a copy of the original dataset\n",
        "\n",
        "df_diabetes1 = df_diabetes.copy()"
      ]
    },
    {
      "cell_type": "code",
      "execution_count": null,
      "metadata": {
        "colab": {
          "base_uri": "https://localhost:8080/",
          "height": 250
        },
        "id": "Op_nDiiJM0Sa",
        "outputId": "91eadd80-001e-4174-94f0-d08c194e9127"
      },
      "outputs": [
        {
          "data": {
            "text/html": [
              "\n",
              "  <div id=\"df-caa7b359-9bb4-4a20-89fa-0eaa2c5e0b5e\">\n",
              "    <div class=\"colab-df-container\">\n",
              "      <div>\n",
              "<style scoped>\n",
              "    .dataframe tbody tr th:only-of-type {\n",
              "        vertical-align: middle;\n",
              "    }\n",
              "\n",
              "    .dataframe tbody tr th {\n",
              "        vertical-align: top;\n",
              "    }\n",
              "\n",
              "    .dataframe thead th {\n",
              "        text-align: right;\n",
              "    }\n",
              "</style>\n",
              "<table border=\"1\" class=\"dataframe\">\n",
              "  <thead>\n",
              "    <tr style=\"text-align: right;\">\n",
              "      <th></th>\n",
              "      <th>Pregnancies</th>\n",
              "      <th>Glucose</th>\n",
              "      <th>BloodPressure</th>\n",
              "      <th>SkinThickness</th>\n",
              "      <th>Insulin</th>\n",
              "      <th>BMI</th>\n",
              "      <th>DiabetesPedigreeFunction</th>\n",
              "      <th>Age</th>\n",
              "      <th>Outcome</th>\n",
              "    </tr>\n",
              "  </thead>\n",
              "  <tbody>\n",
              "    <tr>\n",
              "      <th>0</th>\n",
              "      <td>6</td>\n",
              "      <td>148</td>\n",
              "      <td>72</td>\n",
              "      <td>35</td>\n",
              "      <td>0</td>\n",
              "      <td>33.6</td>\n",
              "      <td>0.627</td>\n",
              "      <td>50</td>\n",
              "      <td>1</td>\n",
              "    </tr>\n",
              "    <tr>\n",
              "      <th>1</th>\n",
              "      <td>1</td>\n",
              "      <td>85</td>\n",
              "      <td>66</td>\n",
              "      <td>29</td>\n",
              "      <td>0</td>\n",
              "      <td>26.6</td>\n",
              "      <td>0.351</td>\n",
              "      <td>31</td>\n",
              "      <td>0</td>\n",
              "    </tr>\n",
              "    <tr>\n",
              "      <th>2</th>\n",
              "      <td>8</td>\n",
              "      <td>183</td>\n",
              "      <td>64</td>\n",
              "      <td>0</td>\n",
              "      <td>0</td>\n",
              "      <td>23.3</td>\n",
              "      <td>0.672</td>\n",
              "      <td>32</td>\n",
              "      <td>1</td>\n",
              "    </tr>\n",
              "    <tr>\n",
              "      <th>3</th>\n",
              "      <td>1</td>\n",
              "      <td>89</td>\n",
              "      <td>66</td>\n",
              "      <td>23</td>\n",
              "      <td>94</td>\n",
              "      <td>28.1</td>\n",
              "      <td>0.167</td>\n",
              "      <td>21</td>\n",
              "      <td>0</td>\n",
              "    </tr>\n",
              "    <tr>\n",
              "      <th>4</th>\n",
              "      <td>0</td>\n",
              "      <td>137</td>\n",
              "      <td>40</td>\n",
              "      <td>35</td>\n",
              "      <td>168</td>\n",
              "      <td>43.1</td>\n",
              "      <td>2.288</td>\n",
              "      <td>33</td>\n",
              "      <td>1</td>\n",
              "    </tr>\n",
              "  </tbody>\n",
              "</table>\n",
              "</div>\n",
              "      <button class=\"colab-df-convert\" onclick=\"convertToInteractive('df-caa7b359-9bb4-4a20-89fa-0eaa2c5e0b5e')\"\n",
              "              title=\"Convert this dataframe to an interactive table.\"\n",
              "              style=\"display:none;\">\n",
              "        \n",
              "  <svg xmlns=\"http://www.w3.org/2000/svg\" height=\"24px\"viewBox=\"0 0 24 24\"\n",
              "       width=\"24px\">\n",
              "    <path d=\"M0 0h24v24H0V0z\" fill=\"none\"/>\n",
              "    <path d=\"M18.56 5.44l.94 2.06.94-2.06 2.06-.94-2.06-.94-.94-2.06-.94 2.06-2.06.94zm-11 1L8.5 8.5l.94-2.06 2.06-.94-2.06-.94L8.5 2.5l-.94 2.06-2.06.94zm10 10l.94 2.06.94-2.06 2.06-.94-2.06-.94-.94-2.06-.94 2.06-2.06.94z\"/><path d=\"M17.41 7.96l-1.37-1.37c-.4-.4-.92-.59-1.43-.59-.52 0-1.04.2-1.43.59L10.3 9.45l-7.72 7.72c-.78.78-.78 2.05 0 2.83L4 21.41c.39.39.9.59 1.41.59.51 0 1.02-.2 1.41-.59l7.78-7.78 2.81-2.81c.8-.78.8-2.07 0-2.86zM5.41 20L4 18.59l7.72-7.72 1.47 1.35L5.41 20z\"/>\n",
              "  </svg>\n",
              "      </button>\n",
              "      \n",
              "  <style>\n",
              "    .colab-df-container {\n",
              "      display:flex;\n",
              "      flex-wrap:wrap;\n",
              "      gap: 12px;\n",
              "    }\n",
              "\n",
              "    .colab-df-convert {\n",
              "      background-color: #E8F0FE;\n",
              "      border: none;\n",
              "      border-radius: 50%;\n",
              "      cursor: pointer;\n",
              "      display: none;\n",
              "      fill: #1967D2;\n",
              "      height: 32px;\n",
              "      padding: 0 0 0 0;\n",
              "      width: 32px;\n",
              "    }\n",
              "\n",
              "    .colab-df-convert:hover {\n",
              "      background-color: #E2EBFA;\n",
              "      box-shadow: 0px 1px 2px rgba(60, 64, 67, 0.3), 0px 1px 3px 1px rgba(60, 64, 67, 0.15);\n",
              "      fill: #174EA6;\n",
              "    }\n",
              "\n",
              "    [theme=dark] .colab-df-convert {\n",
              "      background-color: #3B4455;\n",
              "      fill: #D2E3FC;\n",
              "    }\n",
              "\n",
              "    [theme=dark] .colab-df-convert:hover {\n",
              "      background-color: #434B5C;\n",
              "      box-shadow: 0px 1px 3px 1px rgba(0, 0, 0, 0.15);\n",
              "      filter: drop-shadow(0px 1px 2px rgba(0, 0, 0, 0.3));\n",
              "      fill: #FFFFFF;\n",
              "    }\n",
              "  </style>\n",
              "\n",
              "      <script>\n",
              "        const buttonEl =\n",
              "          document.querySelector('#df-caa7b359-9bb4-4a20-89fa-0eaa2c5e0b5e button.colab-df-convert');\n",
              "        buttonEl.style.display =\n",
              "          google.colab.kernel.accessAllowed ? 'block' : 'none';\n",
              "\n",
              "        async function convertToInteractive(key) {\n",
              "          const element = document.querySelector('#df-caa7b359-9bb4-4a20-89fa-0eaa2c5e0b5e');\n",
              "          const dataTable =\n",
              "            await google.colab.kernel.invokeFunction('convertToInteractive',\n",
              "                                                     [key], {});\n",
              "          if (!dataTable) return;\n",
              "\n",
              "          const docLinkHtml = 'Like what you see? Visit the ' +\n",
              "            '<a target=\"_blank\" href=https://colab.research.google.com/notebooks/data_table.ipynb>data table notebook</a>'\n",
              "            + ' to learn more about interactive tables.';\n",
              "          element.innerHTML = '';\n",
              "          dataTable['output_type'] = 'display_data';\n",
              "          await google.colab.output.renderOutput(dataTable, element);\n",
              "          const docLink = document.createElement('div');\n",
              "          docLink.innerHTML = docLinkHtml;\n",
              "          element.appendChild(docLink);\n",
              "        }\n",
              "      </script>\n",
              "    </div>\n",
              "  </div>\n",
              "  "
            ],
            "text/plain": [
              "   Pregnancies  Glucose  BloodPressure  SkinThickness  Insulin   BMI  \\\n",
              "0            6      148             72             35        0  33.6   \n",
              "1            1       85             66             29        0  26.6   \n",
              "2            8      183             64              0        0  23.3   \n",
              "3            1       89             66             23       94  28.1   \n",
              "4            0      137             40             35      168  43.1   \n",
              "\n",
              "   DiabetesPedigreeFunction  Age  Outcome  \n",
              "0                     0.627   50        1  \n",
              "1                     0.351   31        0  \n",
              "2                     0.672   32        1  \n",
              "3                     0.167   21        0  \n",
              "4                     2.288   33        1  "
            ]
          },
          "execution_count": 11,
          "metadata": {},
          "output_type": "execute_result"
        }
      ],
      "source": [
        "df_diabetes1.head()"
      ]
    },
    {
      "cell_type": "code",
      "execution_count": null,
      "metadata": {
        "colab": {
          "base_uri": "https://localhost:8080/"
        },
        "id": "EdNW1xsbM3Ze",
        "outputId": "f29097ad-04ee-4276-a5e3-76733a44e272"
      },
      "outputs": [
        {
          "name": "stdout",
          "output_type": "stream",
          "text": [
            "0.65\n",
            "4.56\n",
            "29.56\n",
            "48.7\n",
            "1.43\n"
          ]
        }
      ],
      "source": [
        "print(round(len(df_diabetes1[df_diabetes1['Glucose']==0])/df_diabetes1.shape[0]*100,2))\n",
        "print(round(len(df_diabetes1[df_diabetes1['BloodPressure']==0])/df_diabetes1.shape[0]*100,2))\n",
        "print(round(len(df_diabetes1[df_diabetes1['SkinThickness']==0])/df_diabetes1.shape[0]*100,2))\n",
        "print(round(len(df_diabetes1[df_diabetes1['Insulin']==0])/df_diabetes1.shape[0]*100,2))\n",
        "print(round(len(df_diabetes1[df_diabetes1['BMI']==0])/df_diabetes1.shape[0]*100,2))"
      ]
    },
    {
      "cell_type": "markdown",
      "metadata": {
        "id": "VDThr5EdOC2f"
      },
      "source": [
        "Skinthickness and insuling have most number of missing values"
      ]
    },
    {
      "cell_type": "markdown",
      "metadata": {
        "id": "FG1qEF7WRl1E"
      },
      "source": [
        "##### 1.5.3 Let's try to impute the missing values "
      ]
    },
    {
      "cell_type": "markdown",
      "metadata": {
        "id": "oCoX3OgWOwPz"
      },
      "source": [
        "Lets try to impute the zero values of Glucose columns with means using replace function"
      ]
    },
    {
      "cell_type": "code",
      "execution_count": null,
      "metadata": {
        "id": "zxhAy4-1N_bo"
      },
      "outputs": [],
      "source": [
        "df_diabetes1['Glucose'] = df_diabetes1['Glucose'].map(lambda x : df_diabetes1.Glucose.mean() if x == 0 else x)"
      ]
    },
    {
      "cell_type": "code",
      "execution_count": null,
      "metadata": {
        "colab": {
          "base_uri": "https://localhost:8080/",
          "height": 93
        },
        "id": "c3H3i_VlQ-U6",
        "outputId": "f4b5194b-d3ef-4f89-fb7d-010c1029a81b"
      },
      "outputs": [
        {
          "data": {
            "text/html": [
              "\n",
              "  <div id=\"df-53e5e1a5-025f-4735-8242-2fa5c68b018c\">\n",
              "    <div class=\"colab-df-container\">\n",
              "      <div>\n",
              "<style scoped>\n",
              "    .dataframe tbody tr th:only-of-type {\n",
              "        vertical-align: middle;\n",
              "    }\n",
              "\n",
              "    .dataframe tbody tr th {\n",
              "        vertical-align: top;\n",
              "    }\n",
              "\n",
              "    .dataframe thead th {\n",
              "        text-align: right;\n",
              "    }\n",
              "</style>\n",
              "<table border=\"1\" class=\"dataframe\">\n",
              "  <thead>\n",
              "    <tr style=\"text-align: right;\">\n",
              "      <th></th>\n",
              "      <th>Pregnancies</th>\n",
              "      <th>Glucose</th>\n",
              "      <th>BloodPressure</th>\n",
              "      <th>SkinThickness</th>\n",
              "      <th>Insulin</th>\n",
              "      <th>BMI</th>\n",
              "      <th>DiabetesPedigreeFunction</th>\n",
              "      <th>Age</th>\n",
              "      <th>Outcome</th>\n",
              "    </tr>\n",
              "  </thead>\n",
              "  <tbody>\n",
              "  </tbody>\n",
              "</table>\n",
              "</div>\n",
              "      <button class=\"colab-df-convert\" onclick=\"convertToInteractive('df-53e5e1a5-025f-4735-8242-2fa5c68b018c')\"\n",
              "              title=\"Convert this dataframe to an interactive table.\"\n",
              "              style=\"display:none;\">\n",
              "        \n",
              "  <svg xmlns=\"http://www.w3.org/2000/svg\" height=\"24px\"viewBox=\"0 0 24 24\"\n",
              "       width=\"24px\">\n",
              "    <path d=\"M0 0h24v24H0V0z\" fill=\"none\"/>\n",
              "    <path d=\"M18.56 5.44l.94 2.06.94-2.06 2.06-.94-2.06-.94-.94-2.06-.94 2.06-2.06.94zm-11 1L8.5 8.5l.94-2.06 2.06-.94-2.06-.94L8.5 2.5l-.94 2.06-2.06.94zm10 10l.94 2.06.94-2.06 2.06-.94-2.06-.94-.94-2.06-.94 2.06-2.06.94z\"/><path d=\"M17.41 7.96l-1.37-1.37c-.4-.4-.92-.59-1.43-.59-.52 0-1.04.2-1.43.59L10.3 9.45l-7.72 7.72c-.78.78-.78 2.05 0 2.83L4 21.41c.39.39.9.59 1.41.59.51 0 1.02-.2 1.41-.59l7.78-7.78 2.81-2.81c.8-.78.8-2.07 0-2.86zM5.41 20L4 18.59l7.72-7.72 1.47 1.35L5.41 20z\"/>\n",
              "  </svg>\n",
              "      </button>\n",
              "      \n",
              "  <style>\n",
              "    .colab-df-container {\n",
              "      display:flex;\n",
              "      flex-wrap:wrap;\n",
              "      gap: 12px;\n",
              "    }\n",
              "\n",
              "    .colab-df-convert {\n",
              "      background-color: #E8F0FE;\n",
              "      border: none;\n",
              "      border-radius: 50%;\n",
              "      cursor: pointer;\n",
              "      display: none;\n",
              "      fill: #1967D2;\n",
              "      height: 32px;\n",
              "      padding: 0 0 0 0;\n",
              "      width: 32px;\n",
              "    }\n",
              "\n",
              "    .colab-df-convert:hover {\n",
              "      background-color: #E2EBFA;\n",
              "      box-shadow: 0px 1px 2px rgba(60, 64, 67, 0.3), 0px 1px 3px 1px rgba(60, 64, 67, 0.15);\n",
              "      fill: #174EA6;\n",
              "    }\n",
              "\n",
              "    [theme=dark] .colab-df-convert {\n",
              "      background-color: #3B4455;\n",
              "      fill: #D2E3FC;\n",
              "    }\n",
              "\n",
              "    [theme=dark] .colab-df-convert:hover {\n",
              "      background-color: #434B5C;\n",
              "      box-shadow: 0px 1px 3px 1px rgba(0, 0, 0, 0.15);\n",
              "      filter: drop-shadow(0px 1px 2px rgba(0, 0, 0, 0.3));\n",
              "      fill: #FFFFFF;\n",
              "    }\n",
              "  </style>\n",
              "\n",
              "      <script>\n",
              "        const buttonEl =\n",
              "          document.querySelector('#df-53e5e1a5-025f-4735-8242-2fa5c68b018c button.colab-df-convert');\n",
              "        buttonEl.style.display =\n",
              "          google.colab.kernel.accessAllowed ? 'block' : 'none';\n",
              "\n",
              "        async function convertToInteractive(key) {\n",
              "          const element = document.querySelector('#df-53e5e1a5-025f-4735-8242-2fa5c68b018c');\n",
              "          const dataTable =\n",
              "            await google.colab.kernel.invokeFunction('convertToInteractive',\n",
              "                                                     [key], {});\n",
              "          if (!dataTable) return;\n",
              "\n",
              "          const docLinkHtml = 'Like what you see? Visit the ' +\n",
              "            '<a target=\"_blank\" href=https://colab.research.google.com/notebooks/data_table.ipynb>data table notebook</a>'\n",
              "            + ' to learn more about interactive tables.';\n",
              "          element.innerHTML = '';\n",
              "          dataTable['output_type'] = 'display_data';\n",
              "          await google.colab.output.renderOutput(dataTable, element);\n",
              "          const docLink = document.createElement('div');\n",
              "          docLink.innerHTML = docLinkHtml;\n",
              "          element.appendChild(docLink);\n",
              "        }\n",
              "      </script>\n",
              "    </div>\n",
              "  </div>\n",
              "  "
            ],
            "text/plain": [
              "Empty DataFrame\n",
              "Columns: [Pregnancies, Glucose, BloodPressure, SkinThickness, Insulin, BMI, DiabetesPedigreeFunction, Age, Outcome]\n",
              "Index: []"
            ]
          },
          "execution_count": 14,
          "metadata": {},
          "output_type": "execute_result"
        }
      ],
      "source": [
        "df_diabetes1[df_diabetes1['Glucose'] == 0]"
      ]
    },
    {
      "cell_type": "code",
      "execution_count": null,
      "metadata": {
        "id": "boSKzn97NM_S"
      },
      "outputs": [],
      "source": [
        "df_diabetes1['SkinThickness'] = df_diabetes1['SkinThickness'].map(lambda x : df_diabetes1.SkinThickness.mean() if x == 0 else x)\n",
        "df_diabetes1['BloodPressure'] = df_diabetes1['BloodPressure'].map(lambda x : df_diabetes1.BloodPressure.mean() if x == 0 else x)\n",
        "df_diabetes1['BMI'] = df_diabetes1['BMI'].map(lambda x : df_diabetes1.BMI.mean() if x == 0 else x)\n",
        "df_diabetes1['Insulin'] = df_diabetes1['Insulin'].map(lambda x : df_diabetes1.Insulin.median() if x == 0 else x)"
      ]
    },
    {
      "cell_type": "markdown",
      "metadata": {
        "id": "XnCXH52ERtWr"
      },
      "source": [
        "##### Let's Check the distribution after imputation\n"
      ]
    },
    {
      "cell_type": "code",
      "execution_count": null,
      "metadata": {
        "colab": {
          "base_uri": "https://localhost:8080/",
          "height": 554
        },
        "id": "izauavAXQvQX",
        "outputId": "b5a288ab-eed4-49b5-8f2e-18d5f45e3ea6"
      },
      "outputs": [
        {
          "data": {
            "image/png": "[encoded data removed]",
            "text/plain": [
              "<Figure size 864x648 with 5 Axes>"
            ]
          },
          "metadata": {},
          "output_type": "display_data"
        }
      ],
      "source": [
        "plt.figure(figsize=(12,9))\n",
        "plt.subplot(5,1,1); sns.distplot(df_diabetes1['Glucose'])\n",
        "plt.subplot(5,1,2); sns.distplot(df_diabetes1['BloodPressure'])\n",
        "plt.subplot(5,1,3); sns.distplot(df_diabetes1['SkinThickness'])\n",
        "plt.subplot(5,1,4); sns.distplot(df_diabetes1['Insulin'])\n",
        "plt.subplot(5,1,5); sns.distplot(df_diabetes1['BMI'])\n",
        "plt.show()"
      ]
    },
    {
      "cell_type": "markdown",
      "metadata": {
        "id": "TlDTpY95ZC2y"
      },
      "source": [
        "#### 1.6 Count plot for the predictor varibles"
      ]
    },
    {
      "cell_type": "code",
      "execution_count": null,
      "metadata": {
        "colab": {
          "base_uri": "https://localhost:8080/",
          "height": 295
        },
        "id": "iO8MaS-fR0EX",
        "outputId": "43be0bb5-7990-4e0c-be16-e1a03dd426f7"
      },
      "outputs": [
        {
          "data": {
            "image/png": "[encoded data removed]",
            "text/plain": [
              "<Figure size 432x288 with 1 Axes>"
            ]
          },
          "metadata": {},
          "output_type": "display_data"
        }
      ],
      "source": [
        "plt.hist(df_diabetes['Glucose'])\n",
        "plt.xlabel(\"Glucose Level\")\n",
        "plt.ylabel(\"Frequency of occurance\")\n",
        "plt.title(\"Count plot of Glucose\")\n",
        "plt.show()"
      ]
    },
    {
      "cell_type": "code",
      "execution_count": null,
      "metadata": {
        "colab": {
          "base_uri": "https://localhost:8080/",
          "height": 295
        },
        "id": "Mg_Z7qGcZS84",
        "outputId": "40ac0b83-5ea1-4286-d657-22aa62f45923"
      },
      "outputs": [
        {
          "data": {
            "image/png": "[encoded data removed]",
            "text/plain": [
              "<Figure size 432x288 with 1 Axes>"
            ]
          },
          "metadata": {},
          "output_type": "display_data"
        }
      ],
      "source": [
        "plt.hist(df_diabetes['BloodPressure'])\n",
        "plt.xlabel(\"BloodPressure Level\")\n",
        "plt.ylabel(\"Frequency of occurance\")\n",
        "plt.title(\"Count plot of BloodPressure\")\n",
        "plt.show()"
      ]
    },
    {
      "cell_type": "code",
      "execution_count": null,
      "metadata": {
        "colab": {
          "base_uri": "https://localhost:8080/",
          "height": 295
        },
        "id": "MQlYAq63Zvvr",
        "outputId": "341963cd-8924-4ba8-a031-20187c195370"
      },
      "outputs": [
        {
          "data": {
            "image/png": "[encoded data removed]",
            "text/plain": [
              "<Figure size 432x288 with 1 Axes>"
            ]
          },
          "metadata": {},
          "output_type": "display_data"
        }
      ],
      "source": [
        "plt.hist(df_diabetes['SkinThickness'])\n",
        "plt.xlabel(\"SkinThickness Level\")\n",
        "plt.ylabel(\"Frequency of occurance\")\n",
        "plt.title(\"Count plot of SkinThickness\")\n",
        "plt.show()"
      ]
    },
    {
      "cell_type": "code",
      "execution_count": null,
      "metadata": {
        "colab": {
          "base_uri": "https://localhost:8080/",
          "height": 295
        },
        "id": "cjP4b2jxZ_DI",
        "outputId": "37a0233b-fcf8-44aa-baea-286cb6d37200"
      },
      "outputs": [
        {
          "data": {
            "image/png": "[encoded data removed]",
            "text/plain": [
              "<Figure size 432x288 with 1 Axes>"
            ]
          },
          "metadata": {},
          "output_type": "display_data"
        }
      ],
      "source": [
        "plt.hist(df_diabetes['Insulin'])\n",
        "plt.xlabel(\"Insulin Level\")\n",
        "plt.ylabel(\"Frequency of occurance\")\n",
        "plt.title(\"Count plot of Insulin\")\n",
        "plt.show()"
      ]
    },
    {
      "cell_type": "code",
      "execution_count": null,
      "metadata": {
        "colab": {
          "base_uri": "https://localhost:8080/",
          "height": 295
        },
        "id": "ARN8FyIsaI3T",
        "outputId": "ce0c48cb-99c1-429d-cc9e-dc70b669abd1"
      },
      "outputs": [
        {
          "data": {
            "image/png": "[encoded data removed]",
            "text/plain": [
              "<Figure size 432x288 with 1 Axes>"
            ]
          },
          "metadata": {},
          "output_type": "display_data"
        }
      ],
      "source": [
        "plt.hist(df_diabetes['BMI'])\n",
        "plt.xlabel(\"BMI Level\")\n",
        "plt.ylabel(\"Frequency of occurance\")\n",
        "plt.title(\"Count plot of BMI\")\n",
        "plt.show()"
      ]
    },
    {
      "cell_type": "code",
      "execution_count": null,
      "metadata": {
        "colab": {
          "base_uri": "https://localhost:8080/",
          "height": 295
        },
        "id": "j_BSojroaOio",
        "outputId": "8f5e1aa4-1716-4b2d-fa49-4359bf89bace"
      },
      "outputs": [
        {
          "data": {
            "image/png": "[encoded data removed]",
            "text/plain": [
              "<Figure size 432x288 with 1 Axes>"
            ]
          },
          "metadata": {},
          "output_type": "display_data"
        }
      ],
      "source": [
        "plt.hist(df_diabetes['Age'])\n",
        "plt.xlabel(\"Age\")\n",
        "plt.ylabel(\"Frequency of occurance\")\n",
        "plt.title(\"Count plot of AGE\")\n",
        "plt.show()"
      ]
    },
    {
      "cell_type": "markdown",
      "metadata": {
        "id": "86f4TUnnd4vZ"
      },
      "source": [
        "### 2. EDA"
      ]
    },
    {
      "cell_type": "markdown",
      "metadata": {
        "id": "M33WAIUreCrE"
      },
      "source": [
        "#### 2.1 plotting the outcome of the variable"
      ]
    },
    {
      "cell_type": "code",
      "execution_count": null,
      "metadata": {
        "colab": {
          "base_uri": "https://localhost:8080/",
          "height": 262
        },
        "id": "8wgfqed-aXK8",
        "outputId": "60a9719c-7a0e-45f3-d478-aec9f4f00460"
      },
      "outputs": [
        {
          "data": {
            "image/png": "[encoded data removed]",
            "text/plain": [
              "<Figure size 432x288 with 1 Axes>"
            ]
          },
          "metadata": {},
          "output_type": "display_data"
        }
      ],
      "source": [
        "round(df_diabetes['Outcome'].value_counts(normalize=True)*100,2).plot(kind='bar' )\n",
        "plt.show()"
      ]
    },
    {
      "cell_type": "markdown",
      "metadata": {
        "id": "BvuSEzDGeVwJ"
      },
      "source": [
        "So we have uneven values of the outcome where non diabetic are represented 65% of the time\n",
        "and diabetic are 35% of the data.\n",
        "\n",
        "- So here we have an imbalanced dataset where non-diabetic are represented more than the diabetic.\n",
        "This could pose the problem while trying to classify those people who have diabetic.\n",
        "\n",
        "- This results in models that have poor predictive performance, specifically for the minority class i.e. Diabetic\n",
        "\n",
        "- here we are talking about the correct prediction of diabetic person so the correct prediction of the minority class is more important i.e. it is important that we classify all the diabetic even if some non-diabetic could also be classify as diabetic not the other way around\n",
        "\n",
        "- Some of the approaches to deal with this sort of problem could be \n",
        "  - 1. Try to see the precision and recall values with the original data\n",
        "  - 2. Do Stratified sampling so the equal number of classes get represented in train/test split\n",
        "  - 3. if Nothing work we can alaways use Oversampling/Undersampling algo like SMOTE to better represent the data"
      ]
    },
    {
      "cell_type": "markdown",
      "metadata": {
        "id": "2acx5EWohvWb"
      },
      "source": [
        "#### 2.2 Create the Scatter plot between the variable\n",
        "\n",
        "For this let's use seaborn pairplot method as it easy as compared to individually plot 2 variables"
      ]
    },
    {
      "cell_type": "code",
      "execution_count": null,
      "metadata": {
        "id": "8dwACyH5eR5G"
      },
      "outputs": [],
      "source": [
        "sns.pairplot(data=df_diabetes1, hue = 'Outcome')\n",
        "plt.show()"
      ]
    },
    {
      "cell_type": "markdown",
      "metadata": {
        "id": "xu4-4vsWje9A"
      },
      "source": [
        "#### 2.3 Correlation analysis\n",
        "\n",
        "Here we are doing the correlation analysis to try to find the correlation between the predictors to see if multicollinearity occurs and also see the relationship between diffrent predictors"
      ]
    },
    {
      "cell_type": "code",
      "execution_count": null,
      "metadata": {
        "colab": {
          "background_save": true
        },
        "id": "q44T9R5liJcz",
        "outputId": "fd5bccf1-aef5-4998-e729-0662258bd5e3"
      },
      "outputs": [
        {
          "data": {
            "image/png": "[encoded data removed]",
            "text/plain": [
              "<Figure size 864x648 with 2 Axes>"
            ]
          },
          "metadata": {},
          "output_type": "display_data"
        }
      ],
      "source": [
        "plt.figure(figsize=(12,9))\n",
        "sns.heatmap(df_diabetes.corr(), annot=True)\n",
        "plt.show()"
      ]
    },
    {
      "cell_type": "markdown",
      "metadata": {
        "id": "1iCmVFRPne-I"
      },
      "source": [
        "As Such we do not see Strong correlation between any predictor variable\n",
        "when look form the outcome point of view there are some what positive corr with Glucose level, BMI, Age, Preg in that order\n",
        "\n",
        "So now we can move onto the model building part"
      ]
    },
    {
      "cell_type": "markdown",
      "metadata": {
        "id": "qfWNtcRACbVE"
      },
      "source": [
        "### 3. Model Building"
      ]
    },
    {
      "cell_type": "markdown",
      "metadata": {
        "id": "GhRzlP2GCfdV"
      },
      "source": [
        "#### 3.1 Data Preprocessing\n",
        "\n",
        "Before we move on to the model building and comparing various model with KNN, we need to preprocess the data\n",
        "\n",
        "First do the test train split \n",
        "\n"
      ]
    },
    {
      "cell_type": "code",
      "execution_count": null,
      "metadata": {
        "colab": {
          "background_save": true
        },
        "id": "H0YWsO6aGjQl"
      },
      "outputs": [],
      "source": [
        "X = df_diabetes1.iloc[:,:-1].values\n",
        "y = df_diabetes1.iloc[:,-1].values"
      ]
    },
    {
      "cell_type": "code",
      "execution_count": null,
      "metadata": {
        "colab": {
          "background_save": true
        },
        "id": "yGebZvtuEHFQ"
      },
      "outputs": [],
      "source": [
        "from sklearn.model_selection import train_test_split\n",
        "X_train, X_test, y_train, y_test = train_test_split(X,y, test_size=.25, random_state= 42)"
      ]
    },
    {
      "cell_type": "code",
      "execution_count": null,
      "metadata": {
        "colab": {
          "background_save": true
        },
        "id": "ZjD4IJjKIRz_",
        "outputId": "1c1d3c3e-d29d-4e42-8f04-c892e5667e27"
      },
      "outputs": [
        {
          "name": "stdout",
          "output_type": "stream",
          "text": [
            "(576, 8)\n",
            "(576,)\n",
            "(192, 8)\n",
            "(192,)\n"
          ]
        }
      ],
      "source": [
        "print(X_train.shape)\n",
        "print(y_train.shape)\n",
        "print(X_test.shape)\n",
        "print(y_test.shape)"
      ]
    },
    {
      "cell_type": "markdown",
      "metadata": {
        "id": "SIDEM24CJhhf"
      },
      "source": [
        "Lets do the scaling of the predictor variable"
      ]
    },
    {
      "cell_type": "code",
      "execution_count": null,
      "metadata": {
        "colab": {
          "background_save": true
        },
        "id": "5ybubItCJY9L"
      },
      "outputs": [],
      "source": [
        "from sklearn.preprocessing import StandardScaler\n",
        "\n",
        "scaler = StandardScaler()\n",
        "scaler.fit(X_train)\n",
        "X_train_sc = scaler.transform(X_train)\n",
        "X_test_sc = scaler.transform(X_test)"
      ]
    },
    {
      "cell_type": "markdown",
      "metadata": {
        "id": "aEhUXWMzKTyh"
      },
      "source": [
        "#### 3.2 Applying the KNN Classification"
      ]
    },
    {
      "cell_type": "code",
      "execution_count": null,
      "metadata": {
        "id": "FPxM8RFxK_gr"
      },
      "outputs": [],
      "source": [
        "from sklearn.neighbors import KNeighborsClassifier\n",
        "\n",
        "knn_model = KNeighborsClassifier(n_neighbors=20)\n",
        "knn_model.fit(X_train_sc, y_train)\n",
        "knn_pred = knn_model.predict(X_test_sc)"
      ]
    },
    {
      "cell_type": "code",
      "execution_count": null,
      "metadata": {
        "id": "VVSOkJIbJ_dX"
      },
      "outputs": [],
      "source": [
        "from sklearn import metrics\n",
        "print(\"Model Validation ==>\\n\")\n",
        "print(\"Accuracy Score of KNN Model::\")\n",
        "print(metrics.accuracy_score(y_test,knn_pred))\n",
        "print(\"\\n\",\"Classification Report::\")\n",
        "print(metrics.classification_report(y_test,knn_pred),'\\n')\n",
        "print(\"\\n\", \"Confusion Matrix\")\n",
        "print(metrics.confusion_matrix(y_test, knn_pred))\n",
        "print(\"\\n\",\"ROC Curve\")\n",
        "knn_prob=knn_model.predict_proba(X_test_sc)\n",
        "knn_prob1=knn_prob[:,1]\n",
        "fpr,tpr,thresh=metrics.roc_curve(y_test,knn_prob1)\n",
        "roc_auc_knn=metrics.auc(fpr,tpr)\n",
        "plt.figure(dpi=80)\n",
        "plt.title(\"ROC Curve\")\n",
        "plt.xlabel('False Positive Rate')\n",
        "plt.ylabel('True Positive Rate')\n",
        "plt.plot(fpr,tpr,'b',label='AUC Score = %0.2f'%roc_auc_knn)\n",
        "plt.plot(fpr,fpr,'r--',color='red')\n",
        "plt.legend()"
      ]
    },
    {
      "cell_type": "markdown",
      "metadata": {
        "id": "dhV9_xYKaB8f"
      },
      "source": [
        "- Here as we see that the precision for both positive and negetive is okay i.e. how many correctly predicted turned out to be positive\n",
        "- but when we look at the recall values which is how many actual positive (on both diabetic and non diabetic) we are able to predict correctly. Here recall values is very low esp. for the diabetic class. Out of the total diabetic we are able to predict only 46% of the time\n",
        "- Also the AOC score which is how much better we are able to differentiate between diabetic and non-diabetic class is 79% which is okay\n",
        "\n",
        "Now lets train other classifier to see if the position improve"
      ]
    },
    {
      "cell_type": "markdown",
      "metadata": {
        "id": "5Nnjr76dbIRl"
      },
      "source": [
        "#### 3.3 Logistic Regression"
      ]
    },
    {
      "cell_type": "code",
      "execution_count": null,
      "metadata": {
        "id": "qRCOpcK8b8qq"
      },
      "outputs": [],
      "source": [
        "from sklearn.linear_model import LogisticRegression\n",
        "\n",
        "clf_log = LogisticRegression()\n",
        "clf_log.fit(X_train_sc, y_train)\n",
        "y_log_pred = clf_log.predict(X_test_sc)"
      ]
    },
    {
      "cell_type": "code",
      "execution_count": null,
      "metadata": {
        "id": "Q6t4bMlAc-jF"
      },
      "outputs": [],
      "source": [
        "print(\"Logistics Regression Model Validation ==>\\n\")\n",
        "print(\"Accuracy Score of Logistics Model::\")\n",
        "print(metrics.accuracy_score(y_test,y_log_pred))\n",
        "print(\"\\n\",\"Classification Report::\")\n",
        "print(metrics.classification_report(y_test, y_log_pred),'\\n')\n",
        "print(\"\\n\", \"Confusion Matrix\")\n",
        "print(metrics.confusion_matrix(y_test, y_log_pred))\n",
        "print(\"\\n\",\"ROC Curve\")\n",
        "log_prob=clf_log.predict_proba(X_test_sc)\n",
        "log_prob1=log_prob[:,1]\n",
        "fpr,tpr,thresh=metrics.roc_curve(y_test,log_prob1)\n",
        "roc_auc_log=metrics.auc(fpr,tpr)\n",
        "plt.figure(dpi=80)\n",
        "plt.title(\"ROC Curve - Logistics Regression\")\n",
        "plt.xlabel('False Positive Rate')\n",
        "plt.ylabel('True Positive Rate')\n",
        "plt.plot(fpr,tpr,'b',label='AUC Score = %0.2f'%roc_auc_log)\n",
        "plt.plot(fpr,fpr,'r--',color='red')\n",
        "plt.legend()"
      ]
    },
    {
      "cell_type": "markdown",
      "metadata": {
        "id": "lOpiPn3ne1BO"
      },
      "source": [
        "its performance is almost same as that of the basic KNN classifier . Some small improvement are shown\n",
        "- accuracy has only improved by about 0.6 percent point\n",
        "- Precision has decrease for positive class by about 5% point\n",
        "- but Good news is that the recall value have increase as compared to the basic KNN model by 15% point which is a good\n",
        "- Also the Ability to differentiate has only change by about 2%"
      ]
    },
    {
      "cell_type": "markdown",
      "metadata": {
        "id": "btiqozNWhgIX"
      },
      "source": [
        "#### 3.4 Support Vector Machine"
      ]
    },
    {
      "cell_type": "code",
      "execution_count": null,
      "metadata": {
        "id": "-Rb_KwpEduyt"
      },
      "outputs": [],
      "source": [
        "from sklearn.svm import SVC\n",
        "\n",
        "clf_svc = SVC(kernel='rbf',random_state=42,probability=True)\n",
        "clf_svc.fit(X_train_sc, y_train)\n",
        "y_pred_svc = clf_svc.predict(X_test_sc)"
      ]
    },
    {
      "cell_type": "code",
      "execution_count": null,
      "metadata": {
        "id": "uc1_QKU9ii2k"
      },
      "outputs": [],
      "source": [
        "print(\"Support Vector Machine Model Validation ==>\\n\")\n",
        "print(\"Accuracy Score of SVM Model::\")\n",
        "print(metrics.accuracy_score(y_test,y_pred_svc))\n",
        "print(\"\\n\",\"Classification Report::\")\n",
        "print(metrics.classification_report(y_test, y_pred_svc),'\\n')\n",
        "print(\"\\n\", \"Confusion Matrix\")\n",
        "print(metrics.confusion_matrix(y_test, y_pred_svc))\n",
        "print(\"\\n\",\"ROC Curve\")\n",
        "svc_prob=clf_svc.predict_proba(X_test_sc)\n",
        "svc_prob1=svc_prob[:,1]\n",
        "fpr,tpr,thresh=metrics.roc_curve(y_test,svc_prob1)\n",
        "roc_auc_svc=metrics.auc(fpr,tpr)\n",
        "plt.figure(dpi=80)\n",
        "plt.title(\"ROC Curve - Support Vector Machine\")\n",
        "plt.xlabel('False Positive Rate')\n",
        "plt.ylabel('True Positive Rate')\n",
        "plt.plot(fpr,tpr,'b',label='AUC Score = %0.2f'%roc_auc_svc)\n",
        "plt.plot(fpr,fpr,'r--',color='red')\n",
        "plt.legend()"
      ]
    },
    {
      "cell_type": "markdown",
      "metadata": {
        "id": "xz8Ofc7Gfa73"
      },
      "source": [
        "Not much has change with the using SVM model some parameter like accracy has increase but not much improvement\n",
        "\n",
        "Lets see the Random Forest model "
      ]
    },
    {
      "cell_type": "markdown",
      "metadata": {
        "id": "cYPEiJQejuFe"
      },
      "source": [
        "#### 3.5 Random Forest"
      ]
    },
    {
      "cell_type": "code",
      "execution_count": null,
      "metadata": {
        "id": "P_jQVzdVj2jg"
      },
      "outputs": [],
      "source": [
        "from sklearn.ensemble import RandomForestClassifier\n",
        "\n",
        "clf_forest = RandomForestClassifier(n_estimators=1000,random_state = 42)\n",
        "clf_forest.fit(X_train_sc, y_train)\n",
        "y_pred_for = clf_forest.predict(X_test_sc)"
      ]
    },
    {
      "cell_type": "code",
      "execution_count": null,
      "metadata": {
        "id": "eKDmCfajkUyY"
      },
      "outputs": [],
      "source": [
        "print(\"Random Forest Model Validation ==>\\n\")\n",
        "print(\"Accuracy Score of Random Forest Model::\")\n",
        "print(metrics.accuracy_score(y_test,y_pred_for))\n",
        "print(\"\\n\",\"Classification Report::\")\n",
        "print(metrics.classification_report(y_test, y_pred_for),'\\n')\n",
        "print(\"\\n\", \"Confusion Matrix\")\n",
        "print(metrics.confusion_matrix(y_test, y_pred_for))\n",
        "print(\"\\n\",\"ROC Curve\")\n",
        "for_prob=clf_forest.predict_proba(X_test_sc)\n",
        "for_prob1=for_prob[:,1]\n",
        "fpr,tpr,thresh=metrics.roc_curve(y_test,for_prob1)\n",
        "roc_auc_for=metrics.auc(fpr,tpr)\n",
        "plt.figure(dpi=80)\n",
        "plt.title(\"ROC Curve - Random Forest\")\n",
        "plt.xlabel('False Positive Rate')\n",
        "plt.ylabel('True Positive Rate')\n",
        "plt.plot(fpr,tpr,'b',label='AUC Score = %0.2f'%roc_auc_for)\n",
        "plt.plot(fpr,fpr,'r--',color='red')\n",
        "plt.legend()"
      ]
    },
    {
      "cell_type": "markdown",
      "metadata": {
        "id": "MqyOQesVf6Ie"
      },
      "source": [
        "As compared to the Basic KNN model we see following improvement\n",
        "\n",
        "- Accuracy has increase from 73% to 76% \n",
        "- precision \n",
        "  - for non-diabetic it is showing much improvement from 72% to 82%\n",
        "  - but for diabetic it has declined from 69 to 66% which means out of 100 total diabetic that it predict 66 are actually diabetic\n",
        "- Recall\n",
        "  - for non-diabetic it is showing the decline from 89% to 80% which means earlier out of total 100 non diabetic it is able to predict 89 correctly but now only 80 are correctly diagnosed as Non-diabetic\n",
        "  - But Good news is that for diabetic values has increase from 45% to 70% which means earlier out of 100 diabetic KNN model was able to do correct prediction for only 45 person which has now increase to 70 people\n",
        "- AOC (ROC) score has measly increase from 79% to 81%"
      ]
    },
    {
      "cell_type": "markdown",
      "metadata": {
        "id": "cMcD4agthels"
      },
      "source": [
        "#### 3.6 Applying the oversampling techniques to balance the dataset\n",
        "\n",
        "Earlier we saw that we have an imbalance data i.e. 65% of cases are of non-diabetic class and 35% are for the diabetic class. This is the big reason for not able to correctly predict the diabetic classification as compared to the Non diabetic classification\n",
        "\n",
        "To solve this we will apply Oversampling techniques like SMOTE (Synthetic minority oversamping technique)\n",
        "\n",
        "SMOTE is an oversampling technique where the synthetic samples are generated for the minority class. This algorithm helps to overcome the overfitting problem posed by random oversampling. It focuses on the feature space to generate new instances with the help of interpolation between the positive instances that lie together"
      ]
    },
    {
      "cell_type": "code",
      "execution_count": null,
      "metadata": {
        "id": "4RMkms-jlU7I"
      },
      "outputs": [],
      "source": [
        "from collections import Counter\n",
        "from imblearn.over_sampling import SMOTE\n",
        "\n",
        "counter = Counter(y_train)\n",
        "print(\"Before Oversampling\", counter)\n",
        "smt = SMOTE()\n",
        "\n",
        "X_train_sm, y_train_sm = smt.fit_resample(X_train_sc,y_train)\n",
        "counter = Counter(y_train_sm)\n",
        "print(\"After Oversampling\", counter)"
      ]
    },
    {
      "cell_type": "markdown",
      "metadata": {
        "id": "wLbeGj4FkHL0"
      },
      "source": [
        "##### 3.6.1 Applying the Logistic regression on Oversampled data"
      ]
    },
    {
      "cell_type": "code",
      "execution_count": null,
      "metadata": {
        "id": "sRW77eGrjeiI"
      },
      "outputs": [],
      "source": [
        "clf_log_sm = LogisticRegression()\n",
        "clf_log_sm.fit(X_train_sm, y_train_sm)\n",
        "y_log_pred = clf_log.predict(X_test_sc)"
      ]
    },
    {
      "cell_type": "code",
      "execution_count": null,
      "metadata": {
        "id": "RuqUV4K6kpWj"
      },
      "outputs": [],
      "source": [
        "print(\"Logistics Regression Model using smote ==>\\n\")\n",
        "print(\"Accuracy Score of Logistics Model::\")\n",
        "print(metrics.accuracy_score(y_test,y_log_pred))\n",
        "print(\"\\n\",\"Classification Report::\")\n",
        "print(metrics.classification_report(y_test, y_log_pred),'\\n')\n",
        "print(\"\\n\", \"Confusion Matrix\")\n",
        "print(metrics.confusion_matrix(y_test, y_log_pred))\n",
        "print(\"\\n\",\"ROC Curve\")\n",
        "log_prob=clf_log_sm.predict_proba(X_test_sc)\n",
        "log_prob1=log_prob[:,1]\n",
        "fpr,tpr,thresh=metrics.roc_curve(y_test,log_prob1)\n",
        "roc_auc_log=metrics.auc(fpr,tpr)\n",
        "plt.figure(dpi=80)\n",
        "plt.title(\"ROC Curve - Logistics Regression using smote\")\n",
        "plt.xlabel('False Positive Rate')\n",
        "plt.ylabel('True Positive Rate')\n",
        "plt.plot(fpr,tpr,'b',label='AUC Score = %0.2f'%roc_auc_log)\n",
        "plt.plot(fpr,fpr,'r--',color='red')\n",
        "plt.legend()"
      ]
    },
    {
      "cell_type": "markdown",
      "metadata": {
        "id": "5cfZrHTPk955"
      },
      "source": [
        "Although we see a small decrease in accuracy but the recall values of diabetic has increase from 61 to 70%"
      ]
    },
    {
      "cell_type": "markdown",
      "metadata": {
        "id": "QTeFjxoHlMda"
      },
      "source": [
        "##### 3.6.2 Applying SVM on Oversampled data"
      ]
    },
    {
      "cell_type": "code",
      "execution_count": null,
      "metadata": {
        "id": "iHuLbHiflLNv"
      },
      "outputs": [],
      "source": [
        "from sklearn.svm import SVC\n",
        "\n",
        "clf_svc_sm = SVC(kernel='rbf',random_state=42,probability=True)\n",
        "clf_svc_sm.fit(X_train_sm, y_train_sm)\n",
        "y_pred_svc = clf_svc_sm.predict(X_test_sc)"
      ]
    },
    {
      "cell_type": "code",
      "execution_count": null,
      "metadata": {
        "id": "_QEdm0ublj_o"
      },
      "outputs": [],
      "source": [
        "print(\"Support Vector Machine Model on Oversampled data ==>\\n\")\n",
        "print(\"Accuracy Score of SVM Model::\")\n",
        "print(metrics.accuracy_score(y_test,y_pred_svc))\n",
        "print(\"\\n\",\"Classification Report::\")\n",
        "print(metrics.classification_report(y_test, y_pred_svc),'\\n')\n",
        "print(\"\\n\", \"Confusion Matrix\")\n",
        "print(metrics.confusion_matrix(y_test, y_pred_svc))\n",
        "print(\"\\n\",\"ROC Curve\")\n",
        "svc_prob=clf_svc_sm.predict_proba(X_test_sc)\n",
        "svc_prob1=svc_prob[:,1]\n",
        "fpr,tpr,thresh=metrics.roc_curve(y_test,svc_prob1)\n",
        "roc_auc_svc=metrics.auc(fpr,tpr)\n",
        "plt.figure(dpi=80)\n",
        "plt.title(\"ROC Curve - Support Vector Machine with smote\")\n",
        "plt.xlabel('False Positive Rate')\n",
        "plt.ylabel('True Positive Rate')\n",
        "plt.plot(fpr,tpr,'b',label='AUC Score = %0.2f'%roc_auc_svc)\n",
        "plt.plot(fpr,fpr,'r--',color='red')\n",
        "plt.legend()"
      ]
    },
    {
      "cell_type": "markdown",
      "metadata": {
        "id": "Xs2xJvP5l596"
      },
      "source": [
        "##### 3.6.3 Applying Random Forest on Oversampled data"
      ]
    },
    {
      "cell_type": "code",
      "execution_count": null,
      "metadata": {
        "id": "Qa46O17El_B7"
      },
      "outputs": [],
      "source": [
        "from sklearn.ensemble import RandomForestClassifier\n",
        "\n",
        "clf_forest_sm = RandomForestClassifier(n_estimators=1000,random_state = 42)\n",
        "clf_forest_sm.fit(X_train_sm, y_train_sm)\n",
        "y_pred_for = clf_forest_sm.predict(X_test_sc)"
      ]
    },
    {
      "cell_type": "code",
      "execution_count": null,
      "metadata": {
        "id": "v64ibr3pmHNk"
      },
      "outputs": [],
      "source": [
        "print(\"Random Forest Model Validation using smote ==>\\n\")\n",
        "print(\"Accuracy Score of Random Forest Model using smote::\")\n",
        "print(metrics.accuracy_score(y_test,y_pred_for))\n",
        "print(\"\\n\",\"Classification Report::\")\n",
        "print(metrics.classification_report(y_test, y_pred_for),'\\n')\n",
        "print(\"\\n\", \"Confusion Matrix\")\n",
        "print(metrics.confusion_matrix(y_test, y_pred_for))\n",
        "print(\"\\n\",\"ROC Curve\")\n",
        "for_prob=clf_forest_sm.predict_proba(X_test_sc)\n",
        "for_prob1=for_prob[:,1]\n",
        "fpr,tpr,thresh=metrics.roc_curve(y_test,for_prob1)\n",
        "roc_auc_for=metrics.auc(fpr,tpr)\n",
        "plt.figure(dpi=80)\n",
        "plt.title(\"ROC Curve - Random Forest using smote\")\n",
        "plt.xlabel('False Positive Rate')\n",
        "plt.ylabel('True Positive Rate')\n",
        "plt.plot(fpr,tpr,'b',label='AUC Score = %0.2f'%roc_auc_for)\n",
        "plt.plot(fpr,fpr,'r--',color='red')\n",
        "plt.legend()"
      ]
    },
    {
      "cell_type": "markdown",
      "metadata": {
        "id": "5iyzzy-qmaqK"
      },
      "source": [
        "AS we can see that with using the oversampled data we are able to incrase the recall values 70% to 80% at the cost of 3% point decrease in the accuracy.\n",
        "\n",
        "That means that we are able to better identify the diabetic person at the cost of few non-diabetic that could be misclassified as diabetic"
      ]
    },
    {
      "cell_type": "code",
      "execution_count": null,
      "metadata": {
        "id": "kog525sGnA4r"
      },
      "outputs": [],
      "source": [
        ""
      ]
    }
  ],
  "metadata": {
    "colab": {
      "collapsed_sections": [],
      "name": "Capstone_Project - Healthcare.ipynb",
      "toc_visible": true,
      "provenance": [],
      "authorship_tag": "ABX9TyMuXDwAvvQkOv8YSbuPC8nb",
      "include_colab_link": true
    },
    "kernelspec": {
      "display_name": "Python 3",
      "name": "python3"
    },
    "language_info": {
      "name": "python"
    }
  },
  "nbformat": 4,
  "nbformat_minor": 0
}